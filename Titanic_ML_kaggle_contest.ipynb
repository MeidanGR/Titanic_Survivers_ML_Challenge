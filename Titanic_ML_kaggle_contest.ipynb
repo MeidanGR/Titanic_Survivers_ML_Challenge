{
  "nbformat": 4,
  "nbformat_minor": 0,
  "metadata": {
    "kernelspec": {
      "language": "python",
      "display_name": "Python 3",
      "name": "python3"
    },
    "language_info": {
      "name": "python",
      "version": "3.7.6",
      "mimetype": "text/x-python",
      "codemirror_mode": {
        "name": "ipython",
        "version": 3
      },
      "pygments_lexer": "ipython3",
      "nbconvert_exporter": "python",
      "file_extension": ".py"
    },
    "colab": {
      "name": "Titanic_ML_kaggle-contest.ipynb",
      "provenance": [],
      "include_colab_link": true
    }
  },
  "cells": [
    {
      "cell_type": "markdown",
      "metadata": {
        "id": "view-in-github",
        "colab_type": "text"
      },
      "source": [
        "<a href=\"https://colab.research.google.com/github/MeidanGR/Titanic_Survivers_ML_Challenge/blob/main/Titanic_ML_kaggle_contest.ipynb\" target=\"_parent\"><img src=\"https://colab.research.google.com/assets/colab-badge.svg\" alt=\"Open In Colab\"/></a>"
      ]
    },
    {
      "cell_type": "markdown",
      "metadata": {
        "id": "F2L51a5Jc5wW"
      },
      "source": [
        "# **Titanic RMS Survivors Classification Problem**\n",
        "As part of Machine Learning fundumantals course, taught by **Dr. Dima Alberg**.\n",
        "\n",
        "SCE College, Be'er sheva, IL, 2021.\n",
        "\n",
        "By:\n",
        "**Avichay Kelangel & Meidan Greenberg**\n"
      ]
    },
    {
      "cell_type": "code",
      "metadata": {
        "colab": {
          "base_uri": "https://localhost:8080/"
        },
        "id": "7Js7fe68ddMn",
        "outputId": "0fb1a560-e873-4f36-81aa-7cf6e06b34e0"
      },
      "source": [
        "from google.colab import drive\n",
        "drive.mount('/content/drive', force_remount = True)"
      ],
      "execution_count": 1,
      "outputs": [
        {
          "output_type": "stream",
          "text": [
            "Mounted at /content/drive\n"
          ],
          "name": "stdout"
        }
      ]
    },
    {
      "cell_type": "markdown",
      "metadata": {
        "id": "SElv6uk8c5wb"
      },
      "source": [
        "# **PACKAGES & DATA IMPORT**"
      ]
    },
    {
      "cell_type": "code",
      "metadata": {
        "execution": {
          "iopub.status.busy": "2021-06-11T23:07:16.967250Z",
          "iopub.execute_input": "2021-06-11T23:07:16.967739Z",
          "iopub.status.idle": "2021-06-11T23:07:16.991128Z",
          "shell.execute_reply.started": "2021-06-11T23:07:16.967695Z",
          "shell.execute_reply": "2021-06-11T23:07:16.989982Z"
        },
        "trusted": true,
        "id": "ZUCNt7ELc5wc"
      },
      "source": [
        "# importing train and test data into train_df and test_df dataframes\n",
        "import pandas as pd\n",
        "import numpy as np\n",
        "import matplotlib.pyplot as plt\n",
        "import seaborn as sns\n",
        "\n",
        "train = pd.read_csv('/content/drive/My Drive/Colab Notebooks/ML_Titanic/train.csv')\n",
        "test = pd.read_csv('/content/drive/My Drive/Colab Notebooks/ML_Titanic/test.csv')"
      ],
      "execution_count": 2,
      "outputs": []
    },
    {
      "cell_type": "markdown",
      "metadata": {
        "id": "G-3tPTQsc5wd"
      },
      "source": [
        "# **DATA REVIEW**"
      ]
    },
    {
      "cell_type": "code",
      "metadata": {
        "colab": {
          "base_uri": "https://localhost:8080/",
          "height": 204
        },
        "id": "F0b35QYgdu6x",
        "outputId": "ff737afc-a4f8-486d-ca68-8ae8cfbe4b7a"
      },
      "source": [
        "train.sample(5)"
      ],
      "execution_count": 5,
      "outputs": [
        {
          "output_type": "execute_result",
          "data": {
            "text/html": [
              "<div>\n",
              "<style scoped>\n",
              "    .dataframe tbody tr th:only-of-type {\n",
              "        vertical-align: middle;\n",
              "    }\n",
              "\n",
              "    .dataframe tbody tr th {\n",
              "        vertical-align: top;\n",
              "    }\n",
              "\n",
              "    .dataframe thead th {\n",
              "        text-align: right;\n",
              "    }\n",
              "</style>\n",
              "<table border=\"1\" class=\"dataframe\">\n",
              "  <thead>\n",
              "    <tr style=\"text-align: right;\">\n",
              "      <th></th>\n",
              "      <th>PassengerId</th>\n",
              "      <th>Survived</th>\n",
              "      <th>Pclass</th>\n",
              "      <th>Name</th>\n",
              "      <th>Sex</th>\n",
              "      <th>Age</th>\n",
              "      <th>SibSp</th>\n",
              "      <th>Parch</th>\n",
              "      <th>Ticket</th>\n",
              "      <th>Fare</th>\n",
              "      <th>Cabin</th>\n",
              "      <th>Embarked</th>\n",
              "    </tr>\n",
              "  </thead>\n",
              "  <tbody>\n",
              "    <tr>\n",
              "      <th>560</th>\n",
              "      <td>561</td>\n",
              "      <td>F</td>\n",
              "      <td>3</td>\n",
              "      <td>Morrow, Mr. Thomas Rowan</td>\n",
              "      <td>male</td>\n",
              "      <td>NaN</td>\n",
              "      <td>0</td>\n",
              "      <td>0</td>\n",
              "      <td>372622</td>\n",
              "      <td>7.7500</td>\n",
              "      <td>NaN</td>\n",
              "      <td>Q</td>\n",
              "    </tr>\n",
              "    <tr>\n",
              "      <th>103</th>\n",
              "      <td>104</td>\n",
              "      <td>F</td>\n",
              "      <td>3</td>\n",
              "      <td>Johansson, Mr. Gustaf Joel</td>\n",
              "      <td>male</td>\n",
              "      <td>33.0</td>\n",
              "      <td>0</td>\n",
              "      <td>0</td>\n",
              "      <td>7540</td>\n",
              "      <td>8.6542</td>\n",
              "      <td>NaN</td>\n",
              "      <td>S</td>\n",
              "    </tr>\n",
              "    <tr>\n",
              "      <th>775</th>\n",
              "      <td>776</td>\n",
              "      <td>F</td>\n",
              "      <td>3</td>\n",
              "      <td>Myhrman, Mr. Pehr Fabian Oliver Malkolm</td>\n",
              "      <td>male</td>\n",
              "      <td>18.0</td>\n",
              "      <td>0</td>\n",
              "      <td>0</td>\n",
              "      <td>347078</td>\n",
              "      <td>7.7500</td>\n",
              "      <td>NaN</td>\n",
              "      <td>S</td>\n",
              "    </tr>\n",
              "    <tr>\n",
              "      <th>606</th>\n",
              "      <td>607</td>\n",
              "      <td>F</td>\n",
              "      <td>3</td>\n",
              "      <td>Karaic, Mr. Milan</td>\n",
              "      <td>male</td>\n",
              "      <td>30.0</td>\n",
              "      <td>0</td>\n",
              "      <td>0</td>\n",
              "      <td>349246</td>\n",
              "      <td>7.8958</td>\n",
              "      <td>NaN</td>\n",
              "      <td>S</td>\n",
              "    </tr>\n",
              "    <tr>\n",
              "      <th>198</th>\n",
              "      <td>199</td>\n",
              "      <td>T</td>\n",
              "      <td>3</td>\n",
              "      <td>Madigan, Miss. Margaret \"Maggie\"</td>\n",
              "      <td>female</td>\n",
              "      <td>NaN</td>\n",
              "      <td>0</td>\n",
              "      <td>0</td>\n",
              "      <td>370370</td>\n",
              "      <td>7.7500</td>\n",
              "      <td>NaN</td>\n",
              "      <td>Q</td>\n",
              "    </tr>\n",
              "  </tbody>\n",
              "</table>\n",
              "</div>"
            ],
            "text/plain": [
              "     PassengerId Survived  Pclass  ...    Fare Cabin  Embarked\n",
              "560          561        F       3  ...  7.7500   NaN         Q\n",
              "103          104        F       3  ...  8.6542   NaN         S\n",
              "775          776        F       3  ...  7.7500   NaN         S\n",
              "606          607        F       3  ...  7.8958   NaN         S\n",
              "198          199        T       3  ...  7.7500   NaN         Q\n",
              "\n",
              "[5 rows x 12 columns]"
            ]
          },
          "metadata": {
            "tags": []
          },
          "execution_count": 5
        }
      ]
    },
    {
      "cell_type": "markdown",
      "metadata": {
        "execution": {
          "iopub.status.busy": "2021-06-11T22:57:54.901371Z",
          "iopub.execute_input": "2021-06-11T22:57:54.901788Z",
          "iopub.status.idle": "2021-06-11T22:57:54.906792Z",
          "shell.execute_reply.started": "2021-06-11T22:57:54.901733Z",
          "shell.execute_reply": "2021-06-11T22:57:54.904979Z"
        },
        "id": "ekzvw4Ivc5wh"
      },
      "source": [
        "## **VISUALIZATIONS**\n",
        "For statistical analysis."
      ]
    },
    {
      "cell_type": "code",
      "metadata": {
        "execution": {
          "iopub.status.busy": "2021-06-11T23:07:17.064777Z",
          "iopub.execute_input": "2021-06-11T23:07:17.065076Z",
          "iopub.status.idle": "2021-06-11T23:07:17.143180Z",
          "shell.execute_reply.started": "2021-06-11T23:07:17.065047Z",
          "shell.execute_reply": "2021-06-11T23:07:17.142078Z"
        },
        "trusted": true,
        "id": "saLrAd4tc5wh",
        "outputId": "5bbe7fa3-c949-4338-96f7-28adde0c8946"
      },
      "source": [
        "# Train 'Sex' pie chart\n",
        "\n",
        "train['intSurvived'] = train['Survived'].apply(lambda x:1 if x ==\"T\" else 0)\n",
        "gen_sur = train.groupby(\"Sex\")[\"intSurvived\"].sum() # sum Survived == \"True\" for each gender.\n",
        "gen_sur.plot.pie(figsize=(11, 6), autopct=\"%.2f%%\", colors = ['lightcoral', 'steelblue']).set(title='Gender distribution for the ones that survived')"
      ],
      "execution_count": null,
      "outputs": [
        {
          "output_type": "execute_result",
          "data": {
            "text/plain": [
              "[Text(0.5, 1.0, 'Gender distribution for the ones that survived')]"
            ]
          },
          "metadata": {
            "tags": []
          },
          "execution_count": 11
        },
        {
          "output_type": "display_data",
          "data": {
            "text/plain": [
              "<Figure size 792x432 with 1 Axes>"
            ],
            "image/png": "[encoded data removed]"
          },
          "metadata": {
            "tags": []
          }
        }
      ]
    },
    {
      "cell_type": "markdown",
      "metadata": {
        "id": "hme5S5DpewLi"
      },
      "source": [
        "It can be seen that 68.13% of women survived compared to 31.87% of men, meaning that there seems to be a dependency between gender and chances of survival."
      ]
    },
    {
      "cell_type": "code",
      "metadata": {
        "execution": {
          "iopub.status.busy": "2021-06-11T23:07:17.144767Z",
          "iopub.execute_input": "2021-06-11T23:07:17.145170Z",
          "iopub.status.idle": "2021-06-11T23:07:17.217510Z",
          "shell.execute_reply.started": "2021-06-11T23:07:17.145139Z",
          "shell.execute_reply": "2021-06-11T23:07:17.216318Z"
        },
        "trusted": true,
        "id": "bcyb6DV2c5wi",
        "outputId": "264bd65f-3dd6-4ac8-d16c-218d8fd01b06"
      },
      "source": [
        "# Train 'Embarked' pie chart\n",
        "train.Embarked.value_counts().plot(kind='pie', figsize = (11,6)).set(title='Embarking stations count')"
      ],
      "execution_count": null,
      "outputs": [
        {
          "output_type": "execute_result",
          "data": {
            "text/plain": [
              "[Text(0.5, 1.0, 'Embarking stations count')]"
            ]
          },
          "metadata": {
            "tags": []
          },
          "execution_count": 12
        },
        {
          "output_type": "display_data",
          "data": {
            "text/plain": [
              "<Figure size 792x432 with 1 Axes>"
            ],
            "image/png": "[encoded data removed]"
          },
          "metadata": {
            "tags": []
          }
        }
      ]
    },
    {
      "cell_type": "code",
      "metadata": {
        "execution": {
          "iopub.status.busy": "2021-06-11T23:07:17.218867Z",
          "iopub.execute_input": "2021-06-11T23:07:17.219158Z",
          "iopub.status.idle": "2021-06-11T23:07:17.295712Z",
          "shell.execute_reply.started": "2021-06-11T23:07:17.219128Z",
          "shell.execute_reply": "2021-06-11T23:07:17.294342Z"
        },
        "trusted": true,
        "id": "lCQ11oRhc5wj",
        "outputId": "0ba05513-08b7-476a-bbb5-836e785d28a5"
      },
      "source": [
        "# Cabin count before null replacement\n",
        "train['Cabincount'] = np.where(train.Cabin.str.contains(\" \"), 2, 1)\n",
        "\n",
        "cab_sur = train.groupby(\"Cabincount\")[\"Survived\"].count()\n",
        "cab_sur.plot.pie(figsize=(11, 6), autopct=\"%.2f%%\", colors = ['orange', 'lightgreen']).set(title='No. of cabins depending on survival')"
      ],
      "execution_count": null,
      "outputs": [
        {
          "output_type": "execute_result",
          "data": {
            "text/plain": [
              "[Text(0.5, 1.0, 'No. of cabins depending on survival')]"
            ]
          },
          "metadata": {
            "tags": []
          },
          "execution_count": 13
        },
        {
          "output_type": "display_data",
          "data": {
            "text/plain": [
              "<Figure size 792x432 with 1 Axes>"
            ],
            "image/png": "[encoded data removed]"
          },
          "metadata": {
            "tags": []
          }
        }
      ]
    },
    {
      "cell_type": "markdown",
      "metadata": {
        "id": "l5LEANIlfDjs"
      },
      "source": [
        "Referring to the Cabin column which was translated into the number of cells depending on the chance of survival, it can be seen that passengers with 2 cells have a higher chance of survival, and this figure has the potential to predict the chances of survival in the models."
      ]
    },
    {
      "cell_type": "code",
      "metadata": {
        "execution": {
          "iopub.status.busy": "2021-06-11T23:07:17.297629Z",
          "iopub.execute_input": "2021-06-11T23:07:17.298082Z",
          "iopub.status.idle": "2021-06-11T23:07:17.326122Z",
          "shell.execute_reply.started": "2021-06-11T23:07:17.298026Z",
          "shell.execute_reply": "2021-06-11T23:07:17.323941Z"
        },
        "trusted": true,
        "colab": {
          "base_uri": "https://localhost:8080/",
          "height": 1000
        },
        "id": "l6as1aXoc5wk",
        "outputId": "2c712fad-05b9-4caa-d4c1-1c601d7cb71a"
      },
      "source": [
        "# Train 'Pclass' values hist \n",
        "sns.displot(train.Pclass, binwidth=1/3).set(title='\"Pclass\" values hist')\n",
        "\n",
        "# Train 'Age' values hist \n",
        "sns.displot(train.Age, binwidth=5,kde=True).set(title='\"Age\" values hist before null replcement')\n",
        "\n",
        "# Train 'Sibsp' values hist\n",
        "sns.displot(train.SibSp, binwidth=1,kde=True).set(title='\"Sibsp\" values hist ')\n",
        "\n",
        "# Train 'Parch' values hist \n",
        "sns.displot(train.Parch, binwidth=1).set(title='\"Parch\" values hist')\n",
        "\n",
        "# Train 'Fare' values hist \n",
        "sns.displot(train.Fare, binwidth=20).set(title='\"Fare\" values hist')\n",
        "\n",
        "# Test 'Fare' values hist \n",
        "sns.displot(test.Fare, binwidth=20).set(title='\"Fare\" values hist')"
      ],
      "execution_count": 4,
      "outputs": [
        {
          "output_type": "execute_result",
          "data": {
            "text/plain": [
              "<seaborn.axisgrid.FacetGrid at 0x7f37bde59a90>"
            ]
          },
          "metadata": {
            "tags": []
          },
          "execution_count": 4
        },
        {
          "output_type": "display_data",
          "data": {
            "image/png": "[encoded data removed]",
            "text/plain": [
              "<Figure size 360x360 with 1 Axes>"
            ]
          },
          "metadata": {
            "tags": [],
            "needs_background": "light"
          }
        },
        {
          "output_type": "display_data",
          "data": {
            "image/png": "[encoded data removed]",
            "text/plain": [
              "<Figure size 360x360 with 1 Axes>"
            ]
          },
          "metadata": {
            "tags": [],
            "needs_background": "light"
          }
        },
        {
          "output_type": "display_data",
          "data": {
            "image/png": "[encoded data removed]",
            "text/plain": [
              "<Figure size 360x360 with 1 Axes>"
            ]
          },
          "metadata": {
            "tags": [],
            "needs_background": "light"
          }
        },
        {
          "output_type": "display_data",
          "data": {
            "image/png": "[encoded data removed]",
            "text/plain": [
              "<Figure size 360x360 with 1 Axes>"
            ]
          },
          "metadata": {
            "tags": [],
            "needs_background": "light"
          }
        },
        {
          "output_type": "display_data",
          "data": {
            "image/png": "[encoded data removed]",
            "text/plain": [
              "<Figure size 360x360 with 1 Axes>"
            ]
          },
          "metadata": {
            "tags": [],
            "needs_background": "light"
          }
        },
        {
          "output_type": "display_data",
          "data": {
            "image/png": "[encoded data removed]",
            "text/plain": [
              "<Figure size 360x360 with 1 Axes>"
            ]
          },
          "metadata": {
            "tags": [],
            "needs_background": "light"
          }
        }
      ]
    },
    {
      "cell_type": "markdown",
      "metadata": {
        "execution": {
          "iopub.status.busy": "2021-06-11T23:03:44.342969Z",
          "iopub.status.idle": "2021-06-11T23:03:44.343730Z"
        },
        "id": "kYQtAp06c5wl"
      },
      "source": [
        "# **NULL REPLACEMENT**"
      ]
    },
    {
      "cell_type": "code",
      "metadata": {
        "execution": {
          "iopub.status.busy": "2021-06-11T23:07:36.169353Z",
          "iopub.execute_input": "2021-06-11T23:07:36.169784Z",
          "iopub.status.idle": "2021-06-11T23:07:36.197937Z",
          "shell.execute_reply.started": "2021-06-11T23:07:36.169745Z",
          "shell.execute_reply": "2021-06-11T23:07:36.196586Z"
        },
        "trusted": true,
        "id": "_TZMOm9Rc5wl",
        "outputId": "5c3f4c24-67d2-42ac-8fbf-0c30bb002c72"
      },
      "source": [
        "# printing training data information \n",
        "# (number of non-null observations, datatype)\n",
        "print(train.info())\n",
        "print('-'*100)\n",
        "print(test.info())"
      ],
      "execution_count": null,
      "outputs": [
        {
          "output_type": "stream",
          "text": [
            "<class 'pandas.core.frame.DataFrame'>\n",
            "RangeIndex: 891 entries, 0 to 890\n",
            "Data columns (total 14 columns):\n",
            " #   Column       Non-Null Count  Dtype  \n",
            "---  ------       --------------  -----  \n",
            " 0   PassengerId  891 non-null    int64  \n",
            " 1   Survived     891 non-null    object \n",
            " 2   Pclass       891 non-null    int64  \n",
            " 3   Name         891 non-null    object \n",
            " 4   Sex          891 non-null    object \n",
            " 5   Age          714 non-null    float64\n",
            " 6   SibSp        891 non-null    int64  \n",
            " 7   Parch        891 non-null    int64  \n",
            " 8   Ticket       891 non-null    object \n",
            " 9   Fare         891 non-null    float64\n",
            " 10  Cabin        204 non-null    object \n",
            " 11  Embarked     889 non-null    object \n",
            " 12  intSurvived  891 non-null    int64  \n",
            " 13  Cabincount   891 non-null    int64  \n",
            "dtypes: float64(2), int64(6), object(6)\n",
            "memory usage: 97.6+ KB\n",
            "None\n",
            "----------------------------------------------------------------------------------------------------\n",
            "<class 'pandas.core.frame.DataFrame'>\n",
            "RangeIndex: 418 entries, 0 to 417\n",
            "Data columns (total 11 columns):\n",
            " #   Column       Non-Null Count  Dtype  \n",
            "---  ------       --------------  -----  \n",
            " 0   PassengerId  418 non-null    int64  \n",
            " 1   Pclass       418 non-null    int64  \n",
            " 2   Name         418 non-null    object \n",
            " 3   Sex          418 non-null    object \n",
            " 4   Age          332 non-null    float64\n",
            " 5   SibSp        418 non-null    int64  \n",
            " 6   Parch        418 non-null    int64  \n",
            " 7   Ticket       418 non-null    object \n",
            " 8   Fare         417 non-null    float64\n",
            " 9   Cabin        91 non-null     object \n",
            " 10  Embarked     418 non-null    object \n",
            "dtypes: float64(2), int64(4), object(5)\n",
            "memory usage: 36.0+ KB\n",
            "None\n"
          ],
          "name": "stdout"
        }
      ]
    },
    {
      "cell_type": "markdown",
      "metadata": {
        "id": "43fh_kCdc5wm"
      },
      "source": [
        "We can see null values in columns 'Age', 'Cabin', & 'Embarked' in the train set, and in columns 'Age', 'Fare', & 'Cabin' in the test set.\n",
        "\n",
        "The null replacement procedure is executed by 2 methods:\n",
        "- On the train data, where we have the target variable ('Survived'), a null value will be replaced with summarizing the existing data depending on survival status.\n",
        "\n",
        "- On the test data, nulls where survival status is not available, a more general null replacement will be executed."
      ]
    },
    {
      "cell_type": "code",
      "metadata": {
        "execution": {
          "iopub.status.busy": "2021-06-11T23:07:36.201176Z",
          "iopub.execute_input": "2021-06-11T23:07:36.201662Z",
          "iopub.status.idle": "2021-06-11T23:07:36.221875Z",
          "shell.execute_reply.started": "2021-06-11T23:07:36.201610Z",
          "shell.execute_reply": "2021-06-11T23:07:36.220624Z"
        },
        "trusted": true,
        "id": "L-XmXhxYc5wn"
      },
      "source": [
        "# Train set 'Age' column missing values replacement\n",
        "train_df = train.copy(deep = True)\n",
        "\n",
        "ct_notna = ((train_df['Age'].notna()) & (train_df['Survived'] == 'T'))\n",
        "ct_isna = ((train_df['Age'].isna()) & (train_df['Survived'] == 'T'))\n",
        "ft_notna = ((train_df['Age'].notna()) & (train_df['Survived'] == 'F'))\n",
        "ft_isna = ((train_df['Age'].isna()) & (train_df['Survived'] == 'F'))\n",
        "\n",
        "# 'Age' missing values are replaced with the median of the existing values, \n",
        "#   because it is a rounded number (29) contrary to the mean (29.699)\n",
        "train_df.loc[ct_isna,'Age'] = train_df.loc[ct_isna,'Age'].fillna(train_df.loc[ct_notna,'Age'].mean()) \n",
        "train_df.loc[ft_isna,'Age'] = train_df.loc[ft_isna,'Age'].fillna(train_df.loc[ft_notna,'Age'].mean())"
      ],
      "execution_count": null,
      "outputs": []
    },
    {
      "cell_type": "code",
      "metadata": {
        "execution": {
          "iopub.status.busy": "2021-06-11T23:07:36.223537Z",
          "iopub.execute_input": "2021-06-11T23:07:36.223987Z",
          "iopub.status.idle": "2021-06-11T23:07:36.245102Z",
          "shell.execute_reply.started": "2021-06-11T23:07:36.223932Z",
          "shell.execute_reply": "2021-06-11T23:07:36.243748Z"
        },
        "trusted": true,
        "id": "IDp7wYyyc5wn"
      },
      "source": [
        "# Train set 'Cabin' column missing values replacement\n",
        "\n",
        "ct_notna = ((train_df['Cabin'].notna()) & (train_df['Survived'] == 'T'))\n",
        "ct_isna = ((train_df['Cabin'].isna()) & (train_df['Survived'] == 'T'))\n",
        "ft_notna = ((train_df['Cabin'].notna()) & (train_df['Survived'] == 'F'))\n",
        "ft_isna = ((train_df['Cabin'].isna()) & (train_df['Survived'] == 'F'))\n",
        "\n",
        "# 'Cabin' missing values are replaced with the most frequent value.\n",
        "train_df.loc[ct_isna,'Cabin'] = train_df.loc[ct_isna,'Cabin'].fillna(train_df.loc[ct_notna,'Cabin'].mode()[0]) \n",
        "train_df.loc[ft_isna,'Cabin'] = train_df.loc[ft_isna,'Cabin'].fillna(train_df.loc[ft_notna,'Cabin'].mode()[0])"
      ],
      "execution_count": null,
      "outputs": []
    },
    {
      "cell_type": "code",
      "metadata": {
        "execution": {
          "iopub.status.busy": "2021-06-11T23:07:36.246588Z",
          "iopub.execute_input": "2021-06-11T23:07:36.246892Z",
          "iopub.status.idle": "2021-06-11T23:07:36.264096Z",
          "shell.execute_reply.started": "2021-06-11T23:07:36.246863Z",
          "shell.execute_reply": "2021-06-11T23:07:36.262807Z"
        },
        "trusted": true,
        "id": "i9DX4qYec5wo"
      },
      "source": [
        "# Train set 'Embarked' column missing values replacement\n",
        "\n",
        "ct_notna = ((train_df['Embarked'].notna()) & (train_df['Survived'] == 'T'))\n",
        "ct_isna = ((train_df['Embarked'].isna()) & (train_df['Survived'] == 'T'))\n",
        "ft_notna = ((train_df['Embarked'].notna()) & (train_df['Survived'] == 'F'))\n",
        "ft_isna = ((train_df['Embarked'].isna()) & (train_df['Survived'] == 'F'))\n",
        "\n",
        "# 'Embarked' missing values are replaced with the most frequent value.\n",
        "train_df.loc[ct_isna,'Embarked'] = train_df.loc[ct_isna,'Embarked'].fillna(train_df.loc[ct_notna,'Cabin'].mode()[0]) \n",
        "train_df.loc[ft_isna,'Embarked'] = train_df.loc[ft_isna,'Embarked'].fillna(train_df.loc[ft_notna,'Cabin'].mode()[0])"
      ],
      "execution_count": null,
      "outputs": []
    },
    {
      "cell_type": "code",
      "metadata": {
        "execution": {
          "iopub.status.busy": "2021-06-11T23:07:36.267195Z",
          "iopub.execute_input": "2021-06-11T23:07:36.267564Z",
          "iopub.status.idle": "2021-06-11T23:07:36.284667Z",
          "shell.execute_reply.started": "2021-06-11T23:07:36.267531Z",
          "shell.execute_reply": "2021-06-11T23:07:36.283293Z"
        },
        "trusted": true,
        "id": "H_XJWWOLc5wp"
      },
      "source": [
        "# Test set missing values replacement\n",
        "def m(data):\n",
        "    d = data.copy(deep = True)\n",
        "    for c in data:\n",
        "        if (data[c].dtype =='int64') or (data[c].dtype =='float64') : \n",
        "            if data[c].isnull().values.any():\n",
        "                m = data[c].dropna().mean()\n",
        "                d[c].fillna(m, inplace=True)\n",
        "        else:  \n",
        "    \n",
        "            if data[c].isnull().values.any() or data[c].isna().values.any():\n",
        "                m = data[c].dropna().mode()[0]\n",
        "                d[c].fillna(m, inplace=True)\n",
        "    return d\n",
        "\n",
        "test_df = m(test)"
      ],
      "execution_count": null,
      "outputs": []
    },
    {
      "cell_type": "code",
      "metadata": {
        "execution": {
          "iopub.status.busy": "2021-06-11T23:07:36.286468Z",
          "iopub.execute_input": "2021-06-11T23:07:36.286821Z",
          "iopub.status.idle": "2021-06-11T23:07:36.317609Z",
          "shell.execute_reply.started": "2021-06-11T23:07:36.286792Z",
          "shell.execute_reply": "2021-06-11T23:07:36.316192Z"
        },
        "trusted": true,
        "id": "MkQgJKpic5wq",
        "outputId": "6b2fc956-b989-4ba9-dd19-74154c16b169"
      },
      "source": [
        "# printing training data information after missing values treatment\n",
        "print(train_df.info())\n",
        "print('-'*100)\n",
        "print(test_df.info())"
      ],
      "execution_count": null,
      "outputs": [
        {
          "output_type": "stream",
          "text": [
            "<class 'pandas.core.frame.DataFrame'>\n",
            "RangeIndex: 891 entries, 0 to 890\n",
            "Data columns (total 14 columns):\n",
            " #   Column       Non-Null Count  Dtype  \n",
            "---  ------       --------------  -----  \n",
            " 0   PassengerId  891 non-null    int64  \n",
            " 1   Survived     891 non-null    object \n",
            " 2   Pclass       891 non-null    int64  \n",
            " 3   Name         891 non-null    object \n",
            " 4   Sex          891 non-null    object \n",
            " 5   Age          891 non-null    float64\n",
            " 6   SibSp        891 non-null    int64  \n",
            " 7   Parch        891 non-null    int64  \n",
            " 8   Ticket       891 non-null    object \n",
            " 9   Fare         891 non-null    float64\n",
            " 10  Cabin        891 non-null    object \n",
            " 11  Embarked     891 non-null    object \n",
            " 12  intSurvived  891 non-null    int64  \n",
            " 13  Cabincount   891 non-null    int64  \n",
            "dtypes: float64(2), int64(6), object(6)\n",
            "memory usage: 97.6+ KB\n",
            "None\n",
            "----------------------------------------------------------------------------------------------------\n",
            "<class 'pandas.core.frame.DataFrame'>\n",
            "RangeIndex: 418 entries, 0 to 417\n",
            "Data columns (total 11 columns):\n",
            " #   Column       Non-Null Count  Dtype  \n",
            "---  ------       --------------  -----  \n",
            " 0   PassengerId  418 non-null    int64  \n",
            " 1   Pclass       418 non-null    int64  \n",
            " 2   Name         418 non-null    object \n",
            " 3   Sex          418 non-null    object \n",
            " 4   Age          418 non-null    float64\n",
            " 5   SibSp        418 non-null    int64  \n",
            " 6   Parch        418 non-null    int64  \n",
            " 7   Ticket       418 non-null    object \n",
            " 8   Fare         418 non-null    float64\n",
            " 9   Cabin        418 non-null    object \n",
            " 10  Embarked     418 non-null    object \n",
            "dtypes: float64(2), int64(4), object(5)\n",
            "memory usage: 36.0+ KB\n",
            "None\n"
          ],
          "name": "stdout"
        }
      ]
    },
    {
      "cell_type": "markdown",
      "metadata": {
        "id": "s70uhxAzc5wr"
      },
      "source": [
        "# **VARIABLES MANIPULATION & ADD**\n",
        "\n",
        "## Manipulation:\n",
        "*   Categorical variables with 2 options will be converted to a binary variable.\n",
        "*   Categorical variables with 3+ options will be converted to One-Hot encoding.\n",
        "\n",
        "## Adding new variables\n",
        "*   'Cabincount': (int) counts the number of cabins per passenger, by logic - the more cabins = more family members or important equipment, the less chance of survival. But it can be contrary.\n",
        "*   'IsEmp': (bool) stating if a passenger is an employee. Employees stay in lower decks, as well as operating areas of the board.\n",
        "*   'Relatives': (int), counts the number of relatives of a passenger.\n",
        "*   'isAlone': (bool, stating if a person came alone on board.\n",
        "\n",
        "\n",
        "\n",
        "\n",
        "\n"
      ]
    },
    {
      "cell_type": "code",
      "metadata": {
        "execution": {
          "iopub.status.busy": "2021-06-11T23:07:36.320007Z",
          "iopub.execute_input": "2021-06-11T23:07:36.320459Z",
          "iopub.status.idle": "2021-06-11T23:07:36.361744Z",
          "shell.execute_reply.started": "2021-06-11T23:07:36.320412Z",
          "shell.execute_reply": "2021-06-11T23:07:36.360813Z"
        },
        "trusted": true,
        "id": "p8FBMTqPc5wr"
      },
      "source": [
        "combine = [train_df, test_df]\n",
        "\n",
        "for dataset in combine:\n",
        "    # Manipulating existing variables\n",
        "    dataset['Sex'] = dataset['Sex'].map( {'female': 1, 'male': 0} ).astype(int)\n",
        "    \n",
        "    one_hot = pd.get_dummies(dataset['Embarked'])\n",
        "    dataset['Emb_OHE_C'] = one_hot['C']\n",
        "    dataset['Emb_OHE_Q'] = one_hot['Q']\n",
        "    dataset['Emb_OHE_S'] = one_hot['S']\n",
        "    \n",
        "    one_hot = pd.get_dummies(dataset['Pclass'])\n",
        "    dataset['Class_A'] = one_hot.iloc[:,0]\n",
        "    dataset['Class_B'] = one_hot.iloc[:,1]\n",
        "    dataset['Class_C'] = one_hot.iloc[:,2]\n",
        "    \n",
        "    # Adding new variables\n",
        "    dataset['Cabincount'] = dataset['Cabin'].str.count(' ') +1\n",
        "    dataset['isEmp'] = np.where(dataset['Fare'] == 0.0, True, False).astype(int)\n",
        "    dataset['Relatives'] = dataset['SibSp'] + dataset['Parch']\n",
        "    dataset.loc[dataset['Relatives'] > 0, 'isAlone'] = 0\n",
        "    dataset.loc[dataset['Relatives'] == 0, 'isAlone'] = 1\n",
        "    dataset['isAlone'] = dataset['isAlone'].astype(int)\n",
        "    "
      ],
      "execution_count": null,
      "outputs": []
    },
    {
      "cell_type": "code",
      "metadata": {
        "execution": {
          "iopub.status.busy": "2021-06-11T23:07:36.363275Z",
          "iopub.execute_input": "2021-06-11T23:07:36.363643Z",
          "iopub.status.idle": "2021-06-11T23:07:36.395737Z",
          "shell.execute_reply.started": "2021-06-11T23:07:36.363611Z",
          "shell.execute_reply": "2021-06-11T23:07:36.394474Z"
        },
        "trusted": true,
        "id": "ZAFqZ0aUc5ws",
        "outputId": "ba84c500-48e1-4954-91be-67fe021dcab9"
      },
      "source": [
        "train_df.sample(2)"
      ],
      "execution_count": null,
      "outputs": [
        {
          "output_type": "execute_result",
          "data": {
            "text/plain": [
              "     PassengerId Survived  Pclass                             Name  Sex  \\\n",
              "315          316        T       3  Nilsson, Miss. Helmina Josefina    1   \n",
              "264          265        F       3               Henry, Miss. Delia    1   \n",
              "\n",
              "           Age  SibSp  Parch  Ticket    Fare  ... Cabincount Emb_OHE_C  \\\n",
              "315  26.000000      0      0  347470  7.8542  ...          2         0   \n",
              "264  30.626179      0      0  382649  7.7500  ...          1         0   \n",
              "\n",
              "     Emb_OHE_Q  Emb_OHE_S  Class_A  Class_B  Class_C  isEmp  Relatives  \\\n",
              "315          0          1        0        0        1      0          0   \n",
              "264          1          0        0        0        1      0          0   \n",
              "\n",
              "     isAlone  \n",
              "315        1  \n",
              "264        1  \n",
              "\n",
              "[2 rows x 23 columns]"
            ],
            "text/html": [
              "<div>\n",
              "<style scoped>\n",
              "    .dataframe tbody tr th:only-of-type {\n",
              "        vertical-align: middle;\n",
              "    }\n",
              "\n",
              "    .dataframe tbody tr th {\n",
              "        vertical-align: top;\n",
              "    }\n",
              "\n",
              "    .dataframe thead th {\n",
              "        text-align: right;\n",
              "    }\n",
              "</style>\n",
              "<table border=\"1\" class=\"dataframe\">\n",
              "  <thead>\n",
              "    <tr style=\"text-align: right;\">\n",
              "      <th></th>\n",
              "      <th>PassengerId</th>\n",
              "      <th>Survived</th>\n",
              "      <th>Pclass</th>\n",
              "      <th>Name</th>\n",
              "      <th>Sex</th>\n",
              "      <th>Age</th>\n",
              "      <th>SibSp</th>\n",
              "      <th>Parch</th>\n",
              "      <th>Ticket</th>\n",
              "      <th>Fare</th>\n",
              "      <th>...</th>\n",
              "      <th>Cabincount</th>\n",
              "      <th>Emb_OHE_C</th>\n",
              "      <th>Emb_OHE_Q</th>\n",
              "      <th>Emb_OHE_S</th>\n",
              "      <th>Class_A</th>\n",
              "      <th>Class_B</th>\n",
              "      <th>Class_C</th>\n",
              "      <th>isEmp</th>\n",
              "      <th>Relatives</th>\n",
              "      <th>isAlone</th>\n",
              "    </tr>\n",
              "  </thead>\n",
              "  <tbody>\n",
              "    <tr>\n",
              "      <th>315</th>\n",
              "      <td>316</td>\n",
              "      <td>T</td>\n",
              "      <td>3</td>\n",
              "      <td>Nilsson, Miss. Helmina Josefina</td>\n",
              "      <td>1</td>\n",
              "      <td>26.000000</td>\n",
              "      <td>0</td>\n",
              "      <td>0</td>\n",
              "      <td>347470</td>\n",
              "      <td>7.8542</td>\n",
              "      <td>...</td>\n",
              "      <td>2</td>\n",
              "      <td>0</td>\n",
              "      <td>0</td>\n",
              "      <td>1</td>\n",
              "      <td>0</td>\n",
              "      <td>0</td>\n",
              "      <td>1</td>\n",
              "      <td>0</td>\n",
              "      <td>0</td>\n",
              "      <td>1</td>\n",
              "    </tr>\n",
              "    <tr>\n",
              "      <th>264</th>\n",
              "      <td>265</td>\n",
              "      <td>F</td>\n",
              "      <td>3</td>\n",
              "      <td>Henry, Miss. Delia</td>\n",
              "      <td>1</td>\n",
              "      <td>30.626179</td>\n",
              "      <td>0</td>\n",
              "      <td>0</td>\n",
              "      <td>382649</td>\n",
              "      <td>7.7500</td>\n",
              "      <td>...</td>\n",
              "      <td>1</td>\n",
              "      <td>0</td>\n",
              "      <td>1</td>\n",
              "      <td>0</td>\n",
              "      <td>0</td>\n",
              "      <td>0</td>\n",
              "      <td>1</td>\n",
              "      <td>0</td>\n",
              "      <td>0</td>\n",
              "      <td>1</td>\n",
              "    </tr>\n",
              "  </tbody>\n",
              "</table>\n",
              "<p>2 rows × 23 columns</p>\n",
              "</div>"
            ]
          },
          "metadata": {
            "tags": []
          },
          "execution_count": 22
        }
      ]
    },
    {
      "cell_type": "code",
      "metadata": {
        "execution": {
          "iopub.status.busy": "2021-06-11T23:07:36.397368Z",
          "iopub.execute_input": "2021-06-11T23:07:36.397811Z",
          "iopub.status.idle": "2021-06-11T23:07:36.427919Z",
          "shell.execute_reply.started": "2021-06-11T23:07:36.397776Z",
          "shell.execute_reply": "2021-06-11T23:07:36.426766Z"
        },
        "trusted": true,
        "id": "hyQuYFvlc5ws",
        "outputId": "23c32aa4-af8f-4a74-e585-574db59a8dae"
      },
      "source": [
        "test_df.sample(2)"
      ],
      "execution_count": null,
      "outputs": [
        {
          "output_type": "execute_result",
          "data": {
            "text/plain": [
              "    PassengerId  Pclass                          Name  Sex   Age  SibSp  \\\n",
              "95          987       3    Tenglin, Mr. Gunnar Isidor    0  25.0      0   \n",
              "26          918       1  Ostby, Miss. Helene Ragnhild    1  22.0      0   \n",
              "\n",
              "    Parch  Ticket     Fare            Cabin  ... Emb_OHE_C  Emb_OHE_Q  \\\n",
              "95      0  350033   7.7958  B57 B59 B63 B66  ...         0          0   \n",
              "26      1  113509  61.9792              B36  ...         1          0   \n",
              "\n",
              "    Emb_OHE_S  Class_A  Class_B  Class_C  Cabincount  isEmp  Relatives  \\\n",
              "95          1        0        0        1           4      0          0   \n",
              "26          0        1        0        0           1      0          1   \n",
              "\n",
              "    isAlone  \n",
              "95        1  \n",
              "26        0  \n",
              "\n",
              "[2 rows x 21 columns]"
            ],
            "text/html": [
              "<div>\n",
              "<style scoped>\n",
              "    .dataframe tbody tr th:only-of-type {\n",
              "        vertical-align: middle;\n",
              "    }\n",
              "\n",
              "    .dataframe tbody tr th {\n",
              "        vertical-align: top;\n",
              "    }\n",
              "\n",
              "    .dataframe thead th {\n",
              "        text-align: right;\n",
              "    }\n",
              "</style>\n",
              "<table border=\"1\" class=\"dataframe\">\n",
              "  <thead>\n",
              "    <tr style=\"text-align: right;\">\n",
              "      <th></th>\n",
              "      <th>PassengerId</th>\n",
              "      <th>Pclass</th>\n",
              "      <th>Name</th>\n",
              "      <th>Sex</th>\n",
              "      <th>Age</th>\n",
              "      <th>SibSp</th>\n",
              "      <th>Parch</th>\n",
              "      <th>Ticket</th>\n",
              "      <th>Fare</th>\n",
              "      <th>Cabin</th>\n",
              "      <th>...</th>\n",
              "      <th>Emb_OHE_C</th>\n",
              "      <th>Emb_OHE_Q</th>\n",
              "      <th>Emb_OHE_S</th>\n",
              "      <th>Class_A</th>\n",
              "      <th>Class_B</th>\n",
              "      <th>Class_C</th>\n",
              "      <th>Cabincount</th>\n",
              "      <th>isEmp</th>\n",
              "      <th>Relatives</th>\n",
              "      <th>isAlone</th>\n",
              "    </tr>\n",
              "  </thead>\n",
              "  <tbody>\n",
              "    <tr>\n",
              "      <th>95</th>\n",
              "      <td>987</td>\n",
              "      <td>3</td>\n",
              "      <td>Tenglin, Mr. Gunnar Isidor</td>\n",
              "      <td>0</td>\n",
              "      <td>25.0</td>\n",
              "      <td>0</td>\n",
              "      <td>0</td>\n",
              "      <td>350033</td>\n",
              "      <td>7.7958</td>\n",
              "      <td>B57 B59 B63 B66</td>\n",
              "      <td>...</td>\n",
              "      <td>0</td>\n",
              "      <td>0</td>\n",
              "      <td>1</td>\n",
              "      <td>0</td>\n",
              "      <td>0</td>\n",
              "      <td>1</td>\n",
              "      <td>4</td>\n",
              "      <td>0</td>\n",
              "      <td>0</td>\n",
              "      <td>1</td>\n",
              "    </tr>\n",
              "    <tr>\n",
              "      <th>26</th>\n",
              "      <td>918</td>\n",
              "      <td>1</td>\n",
              "      <td>Ostby, Miss. Helene Ragnhild</td>\n",
              "      <td>1</td>\n",
              "      <td>22.0</td>\n",
              "      <td>0</td>\n",
              "      <td>1</td>\n",
              "      <td>113509</td>\n",
              "      <td>61.9792</td>\n",
              "      <td>B36</td>\n",
              "      <td>...</td>\n",
              "      <td>1</td>\n",
              "      <td>0</td>\n",
              "      <td>0</td>\n",
              "      <td>1</td>\n",
              "      <td>0</td>\n",
              "      <td>0</td>\n",
              "      <td>1</td>\n",
              "      <td>0</td>\n",
              "      <td>1</td>\n",
              "      <td>0</td>\n",
              "    </tr>\n",
              "  </tbody>\n",
              "</table>\n",
              "<p>2 rows × 21 columns</p>\n",
              "</div>"
            ]
          },
          "metadata": {
            "tags": []
          },
          "execution_count": 23
        }
      ]
    },
    {
      "cell_type": "markdown",
      "metadata": {
        "id": "OcRcBn5cc5wt"
      },
      "source": [
        "# **Features Selection**"
      ]
    },
    {
      "cell_type": "code",
      "metadata": {
        "execution": {
          "iopub.status.busy": "2021-06-11T23:07:36.430317Z",
          "iopub.execute_input": "2021-06-11T23:07:36.430619Z",
          "iopub.status.idle": "2021-06-11T23:07:36.998117Z",
          "shell.execute_reply.started": "2021-06-11T23:07:36.430590Z",
          "shell.execute_reply": "2021-06-11T23:07:36.997385Z"
        },
        "trusted": true,
        "id": "M7IHT-uYc5wt",
        "outputId": "4f0a7fd3-0f0a-497e-d1ba-7e78e988d60e"
      },
      "source": [
        "# Selecting K best features using sklearn.\n",
        "\n",
        "from sklearn.feature_selection import SelectKBest, chi2, f_classif, mutual_info_classif\n",
        "\n",
        "feature_cols = ['Class_A','Class_B', 'Class_C', 'Sex', 'Age', 'Relatives','isAlone','SibSp', 'Parch', 'Fare', 'Cabincount', 'isEmp', 'Emb_OHE_C', 'Emb_OHE_Q','Emb_OHE_S']\n",
        "X = train_df[feature_cols]\n",
        "Y = train_df.iloc[:,2]\n",
        "selector = SelectKBest(mutual_info_classif, k=10).fit_transform(X, Y)\n",
        "selector_df = pd.DataFrame(selector)\n",
        "\n",
        "selector_df[:5]"
      ],
      "execution_count": null,
      "outputs": [
        {
          "output_type": "execute_result",
          "data": {
            "text/plain": [
              "     0    1    2     3    4    5        6    7    8    9\n",
              "0  0.0  0.0  1.0  22.0  1.0  1.0   7.2500  0.0  0.0  1.0\n",
              "1  1.0  0.0  0.0  38.0  1.0  1.0  71.2833  1.0  0.0  0.0\n",
              "2  0.0  0.0  1.0  26.0  0.0  0.0   7.9250  0.0  0.0  1.0\n",
              "3  1.0  0.0  0.0  35.0  1.0  1.0  53.1000  0.0  0.0  1.0\n",
              "4  0.0  0.0  1.0  35.0  0.0  0.0   8.0500  0.0  0.0  1.0"
            ],
            "text/html": [
              "<div>\n",
              "<style scoped>\n",
              "    .dataframe tbody tr th:only-of-type {\n",
              "        vertical-align: middle;\n",
              "    }\n",
              "\n",
              "    .dataframe tbody tr th {\n",
              "        vertical-align: top;\n",
              "    }\n",
              "\n",
              "    .dataframe thead th {\n",
              "        text-align: right;\n",
              "    }\n",
              "</style>\n",
              "<table border=\"1\" class=\"dataframe\">\n",
              "  <thead>\n",
              "    <tr style=\"text-align: right;\">\n",
              "      <th></th>\n",
              "      <th>0</th>\n",
              "      <th>1</th>\n",
              "      <th>2</th>\n",
              "      <th>3</th>\n",
              "      <th>4</th>\n",
              "      <th>5</th>\n",
              "      <th>6</th>\n",
              "      <th>7</th>\n",
              "      <th>8</th>\n",
              "      <th>9</th>\n",
              "    </tr>\n",
              "  </thead>\n",
              "  <tbody>\n",
              "    <tr>\n",
              "      <th>0</th>\n",
              "      <td>0.0</td>\n",
              "      <td>0.0</td>\n",
              "      <td>1.0</td>\n",
              "      <td>22.0</td>\n",
              "      <td>1.0</td>\n",
              "      <td>1.0</td>\n",
              "      <td>7.2500</td>\n",
              "      <td>0.0</td>\n",
              "      <td>0.0</td>\n",
              "      <td>1.0</td>\n",
              "    </tr>\n",
              "    <tr>\n",
              "      <th>1</th>\n",
              "      <td>1.0</td>\n",
              "      <td>0.0</td>\n",
              "      <td>0.0</td>\n",
              "      <td>38.0</td>\n",
              "      <td>1.0</td>\n",
              "      <td>1.0</td>\n",
              "      <td>71.2833</td>\n",
              "      <td>1.0</td>\n",
              "      <td>0.0</td>\n",
              "      <td>0.0</td>\n",
              "    </tr>\n",
              "    <tr>\n",
              "      <th>2</th>\n",
              "      <td>0.0</td>\n",
              "      <td>0.0</td>\n",
              "      <td>1.0</td>\n",
              "      <td>26.0</td>\n",
              "      <td>0.0</td>\n",
              "      <td>0.0</td>\n",
              "      <td>7.9250</td>\n",
              "      <td>0.0</td>\n",
              "      <td>0.0</td>\n",
              "      <td>1.0</td>\n",
              "    </tr>\n",
              "    <tr>\n",
              "      <th>3</th>\n",
              "      <td>1.0</td>\n",
              "      <td>0.0</td>\n",
              "      <td>0.0</td>\n",
              "      <td>35.0</td>\n",
              "      <td>1.0</td>\n",
              "      <td>1.0</td>\n",
              "      <td>53.1000</td>\n",
              "      <td>0.0</td>\n",
              "      <td>0.0</td>\n",
              "      <td>1.0</td>\n",
              "    </tr>\n",
              "    <tr>\n",
              "      <th>4</th>\n",
              "      <td>0.0</td>\n",
              "      <td>0.0</td>\n",
              "      <td>1.0</td>\n",
              "      <td>35.0</td>\n",
              "      <td>0.0</td>\n",
              "      <td>0.0</td>\n",
              "      <td>8.0500</td>\n",
              "      <td>0.0</td>\n",
              "      <td>0.0</td>\n",
              "      <td>1.0</td>\n",
              "    </tr>\n",
              "  </tbody>\n",
              "</table>\n",
              "</div>"
            ]
          },
          "metadata": {
            "tags": []
          },
          "execution_count": 24
        }
      ]
    },
    {
      "cell_type": "code",
      "metadata": {
        "execution": {
          "iopub.status.busy": "2021-06-11T23:07:36.999368Z",
          "iopub.execute_input": "2021-06-11T23:07:37.000062Z",
          "iopub.status.idle": "2021-06-11T23:07:37.015321Z",
          "shell.execute_reply.started": "2021-06-11T23:07:36.999961Z",
          "shell.execute_reply": "2021-06-11T23:07:37.014460Z"
        },
        "trusted": true,
        "id": "LQrQmymhc5wu",
        "outputId": "2439fc0d-be18-4641-eaaa-6871cba49d02"
      },
      "source": [
        "# In order to interpret the output features, the same first lines of 'train_df' are presented, and a manual matching is preformed.\n",
        "\n",
        "print(train_df[feature_cols].head(5)) # ['Class_A','Class_B','Class_C', 'Sex', 'Age', 'Relatives', 'Fare', 'Cabincount', 'Emb_OHE_C', 'Emb_OHE_Q']"
      ],
      "execution_count": null,
      "outputs": [
        {
          "output_type": "stream",
          "text": [
            "   Class_A  Class_B  Class_C  Sex   Age  Relatives  isAlone  SibSp  Parch  \\\n",
            "0        0        0        1    0  22.0          1        0      1      0   \n",
            "1        1        0        0    1  38.0          1        0      1      0   \n",
            "2        0        0        1    1  26.0          0        1      0      0   \n",
            "3        1        0        0    1  35.0          1        0      1      0   \n",
            "4        0        0        1    0  35.0          0        1      0      0   \n",
            "\n",
            "      Fare  Cabincount  isEmp  Emb_OHE_C  Emb_OHE_Q  Emb_OHE_S  \n",
            "0   7.2500           1      0          0          0          1  \n",
            "1  71.2833           1      0          1          0          0  \n",
            "2   7.9250           2      0          0          0          1  \n",
            "3  53.1000           1      0          0          0          1  \n",
            "4   8.0500           1      0          0          0          1  \n"
          ],
          "name": "stdout"
        }
      ]
    },
    {
      "cell_type": "code",
      "metadata": {
        "execution": {
          "iopub.status.busy": "2021-06-11T23:07:37.016605Z",
          "iopub.execute_input": "2021-06-11T23:07:37.017020Z",
          "iopub.status.idle": "2021-06-11T23:07:37.679731Z",
          "shell.execute_reply.started": "2021-06-11T23:07:37.016988Z",
          "shell.execute_reply": "2021-06-11T23:07:37.678644Z"
        },
        "trusted": true,
        "id": "00QOkcN5c5wu",
        "outputId": "e5c7626b-1da0-4f70-c5dc-4ffec7373f54"
      },
      "source": [
        "# Heatmap: correlation between selected features from KBestFeatures output.\n",
        "data = train_df.copy(deep=False)\n",
        "cols = ['Class_A','Class_B','Class_C', 'Sex', 'Age', 'Relatives', 'isAlone', 'Fare', 'Cabincount', 'Emb_OHE_C', 'Emb_OHE_Q']\n",
        "\n",
        "corrmat = data[cols].corr()\n",
        "top_corr_features = corrmat.index\n",
        "plt.figure(figsize=(10,6))\n",
        "#plot heat map\n",
        "g=sns.heatmap(data[top_corr_features].corr(),annot=True,cmap=\"GnBu\")"
      ],
      "execution_count": null,
      "outputs": [
        {
          "output_type": "display_data",
          "data": {
            "text/plain": [
              "<Figure size 720x432 with 2 Axes>"
            ],
            "image/png": "[encoded data removed]"
          },
          "metadata": {
            "tags": [],
            "needs_background": "light"
          }
        }
      ]
    },
    {
      "cell_type": "markdown",
      "metadata": {
        "id": "M5m_dN4siSue"
      },
      "source": [
        "Interpreting the heatmap, it can be seen that there is no high correlation between any pair of features (above 0.8), so using all of them may result in train accuracy without over-learning."
      ]
    },
    {
      "cell_type": "code",
      "metadata": {
        "execution": {
          "iopub.status.busy": "2021-06-11T23:07:37.681135Z",
          "iopub.execute_input": "2021-06-11T23:07:37.681453Z",
          "iopub.status.idle": "2021-06-11T23:07:37.690968Z",
          "shell.execute_reply.started": "2021-06-11T23:07:37.681394Z",
          "shell.execute_reply": "2021-06-11T23:07:37.689646Z"
        },
        "trusted": true,
        "id": "XTjUfstvc5wv"
      },
      "source": [
        "# preparing training data\n",
        "cols = ['Class_A','Class_B','Class_C', 'Sex', 'Age', 'Relatives', 'isAlone', 'Fare', 'Emb_OHE_C', 'Emb_OHE_Q']\n",
        "\n",
        "x = train_df[cols]\n",
        "y = train_df['Survived']\n",
        "xx = test_df[cols]"
      ],
      "execution_count": null,
      "outputs": []
    },
    {
      "cell_type": "markdown",
      "metadata": {
        "id": "oyEkCm_5c5wv"
      },
      "source": [
        "# **MODELS AND PREDICTIONS**"
      ]
    },
    {
      "cell_type": "code",
      "metadata": {
        "execution": {
          "iopub.status.busy": "2021-06-11T23:07:37.692939Z",
          "iopub.execute_input": "2021-06-11T23:07:37.693698Z",
          "iopub.status.idle": "2021-06-11T23:08:35.464198Z",
          "shell.execute_reply.started": "2021-06-11T23:07:37.693648Z",
          "shell.execute_reply": "2021-06-11T23:08:35.461879Z"
        },
        "trusted": true,
        "id": "e7WDcwmTc5ww",
        "outputId": "77d05b09-24c4-499c-8ea6-4e9a6dd79afa"
      },
      "source": [
        "# GridSearchCV is being used in every model and wraps with VotingClassifier.\n",
        "\n",
        "from sklearn.ensemble import VotingClassifier\n",
        "# https://www.analyticsvidhya.com/blog/2018/06/comprehensive-guide-for-ensemble-models\n",
        "from sklearn.model_selection import GridSearchCV\n",
        "\n",
        "from sklearn.tree import DecisionTreeClassifier\n",
        "from sklearn.neighbors import KNeighborsClassifier\n",
        "from sklearn.naive_bayes import GaussianNB\n",
        "\n",
        "\n",
        "'''\n",
        "GridSearchCV is combining all of the parameters given to every model to find the best accuracy.\n",
        "VotingClassifier is an Ensamble model using all of the optimized models' predictions to create the best overall prediction. \n",
        "'''\n",
        "\n",
        "#--------------------------------------------\n",
        "grid_params_tree = {\n",
        "    'criterion': ['gini', 'entropy'],\n",
        "    'max_depth' : range(1,6),\n",
        "    'min_samples_split' : range(2,10),\n",
        "    'min_samples_leaf' : range(1,10)\n",
        "}\n",
        "\n",
        "tree_model = GridSearchCV(\n",
        "            DecisionTreeClassifier(),\n",
        "            grid_params_tree,\n",
        "            verbose = 1,\n",
        "            cv = 10,\n",
        "            n_jobs = -1,\n",
        "            error_score='raise'\n",
        "            )\n",
        "tree_model_res = tree_model.fit(x, y)\n",
        "print(tree_model_res.best_params_)\n",
        "tree_model_pred = tree_model.predict(x) \n",
        "#--------------------------------------------\n",
        "grid_params_knn = {\n",
        "    'n_neighbors': range(2,16,1),\n",
        "    'weights' : ['uniform', 'distance'],\n",
        "    'metric' : ['euclidean', 'minkowski'],\n",
        "    'algorithm' : ['auto', 'ball_tree', 'kd_tree', 'brute']    \n",
        "}\n",
        "\n",
        "knn_model = GridSearchCV(\n",
        "            KNeighborsClassifier(),\n",
        "            grid_params_knn,\n",
        "            verbose = 1,\n",
        "            cv = 10,\n",
        "            n_jobs = -1,\n",
        "            error_score='raise'\n",
        "            )\n",
        "knn_model_res = knn_model.fit(x, y)\n",
        "print(knn_model_res.best_params_)\n",
        "knn_model_pred = knn_model.predict(x) \n",
        "#--------------------------------------------\n",
        "grid_params_nb = {'var_smoothing': np.logspace(0,-9, num=100)}\n",
        "\n",
        "nb_model = GridSearchCV(\n",
        "            GaussianNB(),\n",
        "            grid_params_nb,\n",
        "            verbose = 1,\n",
        "            cv = 10,\n",
        "            n_jobs = -1,\n",
        "            error_score='raise'\n",
        "            )\n",
        "nb_model_res = nb_model.fit(x, y)\n",
        "print(nb_model_res.best_params_)\n",
        "nb_model_pred = nb_model.predict(x) \n",
        "#--------------------------------------------\n",
        "\n",
        "voting_model = VotingClassifier(estimators=[('tree_model', tree_model), \n",
        "                                            #('knn_model', knn_model), #KNN keeps overfitting.\n",
        "                                            ('nb_model', nb_model)\n",
        "                                            ], voting='hard')\n",
        "\n",
        "voting_model.fit(x, y)\n",
        "voting_model_pred = voting_model.predict(x) "
      ],
      "execution_count": null,
      "outputs": [
        {
          "output_type": "stream",
          "text": [
            "Fitting 10 folds for each of 720 candidates, totalling 7200 fits\n"
          ],
          "name": "stdout"
        },
        {
          "output_type": "stream",
          "text": [
            "[Parallel(n_jobs=-1)]: Using backend LokyBackend with 4 concurrent workers.\n",
            "[Parallel(n_jobs=-1)]: Done  68 tasks      | elapsed:    2.5s\n",
            "[Parallel(n_jobs=-1)]: Done 2380 tasks      | elapsed:    9.2s\n",
            "[Parallel(n_jobs=-1)]: Done 6380 tasks      | elapsed:   21.7s\n",
            "[Parallel(n_jobs=-1)]: Done 7200 out of 7200 | elapsed:   24.3s finished\n",
            "[Parallel(n_jobs=-1)]: Using backend LokyBackend with 4 concurrent workers.\n"
          ],
          "name": "stderr"
        },
        {
          "output_type": "stream",
          "text": [
            "{'criterion': 'entropy', 'max_depth': 5, 'min_samples_leaf': 2, 'min_samples_split': 3}\n",
            "Fitting 10 folds for each of 224 candidates, totalling 2240 fits\n"
          ],
          "name": "stdout"
        },
        {
          "output_type": "stream",
          "text": [
            "[Parallel(n_jobs=-1)]: Done 280 tasks      | elapsed:    1.3s\n",
            "[Parallel(n_jobs=-1)]: Done 2240 out of 2240 | elapsed:    9.2s finished\n",
            "[Parallel(n_jobs=-1)]: Using backend LokyBackend with 4 concurrent workers.\n"
          ],
          "name": "stderr"
        },
        {
          "output_type": "stream",
          "text": [
            "{'algorithm': 'auto', 'metric': 'euclidean', 'n_neighbors': 14, 'weights': 'distance'}\n",
            "Fitting 10 folds for each of 100 candidates, totalling 1000 fits\n"
          ],
          "name": "stdout"
        },
        {
          "output_type": "stream",
          "text": [
            "[Parallel(n_jobs=-1)]: Done 280 tasks      | elapsed:    1.0s\n",
            "[Parallel(n_jobs=-1)]: Done 1000 out of 1000 | elapsed:    3.1s finished\n",
            "[Parallel(n_jobs=-1)]: Using backend LokyBackend with 4 concurrent workers.\n"
          ],
          "name": "stderr"
        },
        {
          "output_type": "stream",
          "text": [
            "{'var_smoothing': 1.2328467394420658e-05}\n",
            "Fitting 10 folds for each of 720 candidates, totalling 7200 fits\n"
          ],
          "name": "stdout"
        },
        {
          "output_type": "stream",
          "text": [
            "[Parallel(n_jobs=-1)]: Done 312 tasks      | elapsed:    1.0s\n",
            "[Parallel(n_jobs=-1)]: Done 5112 tasks      | elapsed:   12.8s\n",
            "[Parallel(n_jobs=-1)]: Done 7200 out of 7200 | elapsed:   18.1s finished\n",
            "[Parallel(n_jobs=-1)]: Using backend LokyBackend with 4 concurrent workers.\n"
          ],
          "name": "stderr"
        },
        {
          "output_type": "stream",
          "text": [
            "Fitting 10 folds for each of 100 candidates, totalling 1000 fits\n"
          ],
          "name": "stdout"
        },
        {
          "output_type": "stream",
          "text": [
            "[Parallel(n_jobs=-1)]: Done 280 tasks      | elapsed:    0.9s\n",
            "[Parallel(n_jobs=-1)]: Done 1000 out of 1000 | elapsed:    2.6s finished\n"
          ],
          "name": "stderr"
        }
      ]
    },
    {
      "cell_type": "code",
      "metadata": {
        "execution": {
          "iopub.status.busy": "2021-06-11T23:08:35.465948Z",
          "iopub.execute_input": "2021-06-11T23:08:35.466262Z",
          "iopub.status.idle": "2021-06-11T23:08:35.486242Z",
          "shell.execute_reply.started": "2021-06-11T23:08:35.466231Z",
          "shell.execute_reply": "2021-06-11T23:08:35.485427Z"
        },
        "trusted": true,
        "id": "PYlynvcvc5wx",
        "outputId": "3b58d9f4-15e6-48b4-dff6-f10698b7a67c"
      },
      "source": [
        "from sklearn.metrics import accuracy_score\n",
        "tree_model_train_prediction_accuracy =  round(accuracy_score(y, tree_model_pred)*100,2)\n",
        "knn_model_train_prediction_accuracy =  round(accuracy_score(y, knn_model_pred)*100,2)\n",
        "nb_model_train_prediction_accuracy =  round(accuracy_score(y, nb_model_pred)*100,2)\n",
        "voting_model_train_prediction_accuracy =  round(accuracy_score(y, voting_model_pred)*100,2)\n",
        "\n",
        "print('Tree model score:',tree_model_train_prediction_accuracy)\n",
        "print('KNN model score:',knn_model_train_prediction_accuracy)\n",
        "print('NB model score:',nb_model_train_prediction_accuracy)\n",
        "print('Voting model score:',voting_model_train_prediction_accuracy)"
      ],
      "execution_count": null,
      "outputs": [
        {
          "output_type": "stream",
          "text": [
            "Tree model score: 85.3\n",
            "KNN model score: 98.88\n",
            "NB model score: 77.22\n",
            "Voting model score: 80.47\n"
          ],
          "name": "stdout"
        }
      ]
    },
    {
      "cell_type": "code",
      "metadata": {
        "execution": {
          "iopub.status.busy": "2021-06-11T23:08:35.487516Z",
          "iopub.execute_input": "2021-06-11T23:08:35.487822Z",
          "iopub.status.idle": "2021-06-11T23:08:35.516048Z",
          "shell.execute_reply.started": "2021-06-11T23:08:35.487792Z",
          "shell.execute_reply": "2021-06-11T23:08:35.514942Z"
        },
        "trusted": true,
        "id": "BrJPLfk0c5wy"
      },
      "source": [
        "yy = voting_model.predict(xx) "
      ],
      "execution_count": null,
      "outputs": []
    },
    {
      "cell_type": "markdown",
      "metadata": {
        "id": "ZgA2ZhblecEz"
      },
      "source": [
        "The voting model is the must stable among the models, bringing **test-set** **accuracy of 81.339%.**"
      ]
    },
    {
      "cell_type": "markdown",
      "metadata": {
        "id": "aW79SmDbc5wy"
      },
      "source": [
        "==================================================================================================================="
      ]
    },
    {
      "cell_type": "code",
      "metadata": {
        "execution": {
          "iopub.status.busy": "2021-06-11T23:08:35.517681Z",
          "iopub.execute_input": "2021-06-11T23:08:35.518003Z",
          "iopub.status.idle": "2021-06-11T23:08:36.060000Z",
          "shell.execute_reply.started": "2021-06-11T23:08:35.517973Z",
          "shell.execute_reply": "2021-06-11T23:08:36.058698Z"
        },
        "trusted": true,
        "id": "TKDpnRRCc5wy"
      },
      "source": [
        "# preparing submission file\n",
        "submission = pd.DataFrame( { 'PassengerId': test['PassengerId'] , 'Survived': yy } )\n",
        "submission.to_csv('akmg_votingOngrid.csv' , index = False )"
      ],
      "execution_count": null,
      "outputs": []
    },
    {
      "cell_type": "markdown",
      "metadata": {
        "id": "Nsx3APwwc5wz"
      },
      "source": [
        "==================================================================================================================="
      ]
    }
  ]
}
